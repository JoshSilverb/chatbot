{
 "metadata": {
  "language_info": {
   "codemirror_mode": {
    "name": "ipython",
    "version": 3
   },
   "file_extension": ".py",
   "mimetype": "text/x-python",
   "name": "python",
   "nbconvert_exporter": "python",
   "pygments_lexer": "ipython3",
   "version": "3.8.5"
  },
  "orig_nbformat": 2,
  "kernelspec": {
   "name": "python385jvsc74a57bd03cacca141788e01bf0c353cfeee37b5ea799026c71fdf88d57031796182b69da",
   "display_name": "Python 3.8.5  ('env': venv)",
   "language": "python"
  }
 },
 "nbformat": 4,
 "nbformat_minor": 2,
 "cells": [
  {
   "cell_type": "code",
   "execution_count": 2,
   "metadata": {},
   "outputs": [],
   "source": [
    "import pandas as pd\n",
    "import numpy as np"
   ]
  },
  {
   "cell_type": "code",
   "execution_count": 10,
   "metadata": {},
   "outputs": [],
   "source": [
    "lines = {}\n",
    "with open('./data/movie_lines.txt', 'r', encoding='iso-8859-1') as f:\n",
    "    for line in f.readlines():\n",
    "        line = line.split(' +++$+++ ')\n",
    "        lines[line[0]] = line[4].rstrip()\n"
   ]
  },
  {
   "cell_type": "code",
   "execution_count": 24,
   "metadata": {},
   "outputs": [],
   "source": [
    "convos = []\n",
    "with open('./data/movie_conversations.txt', 'r', encoding='iso-8859-1') as f:\n",
    "    for line in f.readlines():\n",
    "        line = line.split(' +++$+++ ')\n",
    "        arr = line[3].rstrip()\n",
    "        arr = arr[2:-2]\n",
    "        arr = arr.split('\\', \\'')\n",
    "        conv = [lines[c] for c in arr]\n",
    "        convos.append(conv)"
   ]
  },
  {
   "cell_type": "code",
   "execution_count": 25,
   "metadata": {},
   "outputs": [],
   "source": [
    "df = pd.DataFrame.from_records(convos)"
   ]
  },
  {
   "cell_type": "code",
   "execution_count": 26,
   "metadata": {},
   "outputs": [
    {
     "output_type": "execute_result",
     "data": {
      "text/plain": [
       "                                                      0   \\\n",
       "0      Can we make this quick?  Roxanne Korrine and A...   \n",
       "1      You're asking me out.  That's so cute. What's ...   \n",
       "2      No, no, it's my fault -- we didn't have a prop...   \n",
       "3                                                   Why?   \n",
       "4         Gosh, if only we could find Kat a boyfriend...   \n",
       "...                                                  ...   \n",
       "83092  Do you think she might be interested in  someone?   \n",
       "83093  Choose your targets men. That's right Watch th...   \n",
       "83094  Colonel Durnford... William Vereker. I hear yo...   \n",
       "83095                           Your orders, Mr Vereker?   \n",
       "83096  Well I assure you, Sir, I have no desire to cr...   \n",
       "\n",
       "                                                      1   \\\n",
       "0      Well, I thought we'd start with pronunciation,...   \n",
       "1                                             Forget it.   \n",
       "2                                               Cameron.   \n",
       "3      Unsolved mystery.  She used to be really popul...   \n",
       "4                              Let me see what I can do.   \n",
       "...                                                  ...   \n",
       "83092                                         Which one?   \n",
       "83093  Keep steady. You're the best shots of the Twen...   \n",
       "83094  Good ones, yes, Mr Vereker. Gentlemen who can ...   \n",
       "83095  I'm to take the Sikali with the main column to...   \n",
       "83096  And I assure you, you do not In fact I'd be ob...   \n",
       "\n",
       "                                                      2   \\\n",
       "0      Not the hacking and gagging and spitting part....   \n",
       "1                                                   None   \n",
       "2      The thing is, Cameron -- I'm at the mercy of a...   \n",
       "3                                        That's a shame.   \n",
       "4                                                   None   \n",
       "...                                                  ...   \n",
       "83092    Well that one. The one who keeps looking at me.   \n",
       "83093                                               None   \n",
       "83094                                               None   \n",
       "83095  Lord Chelmsford seems to want me to stay back ...   \n",
       "83096  So far only their scouts. But we have had repo...   \n",
       "\n",
       "                                                      3     4     5     6   \\\n",
       "0      Okay... then how 'bout we try out some French ...  None  None  None   \n",
       "1                                                   None  None  None  None   \n",
       "2         Seems like she could get a date easy enough...  None  None  None   \n",
       "3                                                   None  None  None  None   \n",
       "4                                                   None  None  None  None   \n",
       "...                                                  ...   ...   ...   ...   \n",
       "83092  ft could be you flatter yourself CoghilL It's ...  None  None  None   \n",
       "83093                                               None  None  None  None   \n",
       "83094                                               None  None  None  None   \n",
       "83095  I think Chelmsford wants a good man on the bor...  None  None  None   \n",
       "83096                                               None  None  None  None   \n",
       "\n",
       "         7     8     9   ...    79    80    81    82    83    84    85    86  \\\n",
       "0      None  None  None  ...  None  None  None  None  None  None  None  None   \n",
       "1      None  None  None  ...  None  None  None  None  None  None  None  None   \n",
       "2      None  None  None  ...  None  None  None  None  None  None  None  None   \n",
       "3      None  None  None  ...  None  None  None  None  None  None  None  None   \n",
       "4      None  None  None  ...  None  None  None  None  None  None  None  None   \n",
       "...     ...   ...   ...  ...   ...   ...   ...   ...   ...   ...   ...   ...   \n",
       "83092  None  None  None  ...  None  None  None  None  None  None  None  None   \n",
       "83093  None  None  None  ...  None  None  None  None  None  None  None  None   \n",
       "83094  None  None  None  ...  None  None  None  None  None  None  None  None   \n",
       "83095  None  None  None  ...  None  None  None  None  None  None  None  None   \n",
       "83096  None  None  None  ...  None  None  None  None  None  None  None  None   \n",
       "\n",
       "         87    88  \n",
       "0      None  None  \n",
       "1      None  None  \n",
       "2      None  None  \n",
       "3      None  None  \n",
       "4      None  None  \n",
       "...     ...   ...  \n",
       "83092  None  None  \n",
       "83093  None  None  \n",
       "83094  None  None  \n",
       "83095  None  None  \n",
       "83096  None  None  \n",
       "\n",
       "[83097 rows x 89 columns]"
      ],
      "text/html": "<div>\n<style scoped>\n    .dataframe tbody tr th:only-of-type {\n        vertical-align: middle;\n    }\n\n    .dataframe tbody tr th {\n        vertical-align: top;\n    }\n\n    .dataframe thead th {\n        text-align: right;\n    }\n</style>\n<table border=\"1\" class=\"dataframe\">\n  <thead>\n    <tr style=\"text-align: right;\">\n      <th></th>\n      <th>0</th>\n      <th>1</th>\n      <th>2</th>\n      <th>3</th>\n      <th>4</th>\n      <th>5</th>\n      <th>6</th>\n      <th>7</th>\n      <th>8</th>\n      <th>9</th>\n      <th>...</th>\n      <th>79</th>\n      <th>80</th>\n      <th>81</th>\n      <th>82</th>\n      <th>83</th>\n      <th>84</th>\n      <th>85</th>\n      <th>86</th>\n      <th>87</th>\n      <th>88</th>\n    </tr>\n  </thead>\n  <tbody>\n    <tr>\n      <th>0</th>\n      <td>Can we make this quick?  Roxanne Korrine and A...</td>\n      <td>Well, I thought we'd start with pronunciation,...</td>\n      <td>Not the hacking and gagging and spitting part....</td>\n      <td>Okay... then how 'bout we try out some French ...</td>\n      <td>None</td>\n      <td>None</td>\n      <td>None</td>\n      <td>None</td>\n      <td>None</td>\n      <td>None</td>\n      <td>...</td>\n      <td>None</td>\n      <td>None</td>\n      <td>None</td>\n      <td>None</td>\n      <td>None</td>\n      <td>None</td>\n      <td>None</td>\n      <td>None</td>\n      <td>None</td>\n      <td>None</td>\n    </tr>\n    <tr>\n      <th>1</th>\n      <td>You're asking me out.  That's so cute. What's ...</td>\n      <td>Forget it.</td>\n      <td>None</td>\n      <td>None</td>\n      <td>None</td>\n      <td>None</td>\n      <td>None</td>\n      <td>None</td>\n      <td>None</td>\n      <td>None</td>\n      <td>...</td>\n      <td>None</td>\n      <td>None</td>\n      <td>None</td>\n      <td>None</td>\n      <td>None</td>\n      <td>None</td>\n      <td>None</td>\n      <td>None</td>\n      <td>None</td>\n      <td>None</td>\n    </tr>\n    <tr>\n      <th>2</th>\n      <td>No, no, it's my fault -- we didn't have a prop...</td>\n      <td>Cameron.</td>\n      <td>The thing is, Cameron -- I'm at the mercy of a...</td>\n      <td>Seems like she could get a date easy enough...</td>\n      <td>None</td>\n      <td>None</td>\n      <td>None</td>\n      <td>None</td>\n      <td>None</td>\n      <td>None</td>\n      <td>...</td>\n      <td>None</td>\n      <td>None</td>\n      <td>None</td>\n      <td>None</td>\n      <td>None</td>\n      <td>None</td>\n      <td>None</td>\n      <td>None</td>\n      <td>None</td>\n      <td>None</td>\n    </tr>\n    <tr>\n      <th>3</th>\n      <td>Why?</td>\n      <td>Unsolved mystery.  She used to be really popul...</td>\n      <td>That's a shame.</td>\n      <td>None</td>\n      <td>None</td>\n      <td>None</td>\n      <td>None</td>\n      <td>None</td>\n      <td>None</td>\n      <td>None</td>\n      <td>...</td>\n      <td>None</td>\n      <td>None</td>\n      <td>None</td>\n      <td>None</td>\n      <td>None</td>\n      <td>None</td>\n      <td>None</td>\n      <td>None</td>\n      <td>None</td>\n      <td>None</td>\n    </tr>\n    <tr>\n      <th>4</th>\n      <td>Gosh, if only we could find Kat a boyfriend...</td>\n      <td>Let me see what I can do.</td>\n      <td>None</td>\n      <td>None</td>\n      <td>None</td>\n      <td>None</td>\n      <td>None</td>\n      <td>None</td>\n      <td>None</td>\n      <td>None</td>\n      <td>...</td>\n      <td>None</td>\n      <td>None</td>\n      <td>None</td>\n      <td>None</td>\n      <td>None</td>\n      <td>None</td>\n      <td>None</td>\n      <td>None</td>\n      <td>None</td>\n      <td>None</td>\n    </tr>\n    <tr>\n      <th>...</th>\n      <td>...</td>\n      <td>...</td>\n      <td>...</td>\n      <td>...</td>\n      <td>...</td>\n      <td>...</td>\n      <td>...</td>\n      <td>...</td>\n      <td>...</td>\n      <td>...</td>\n      <td>...</td>\n      <td>...</td>\n      <td>...</td>\n      <td>...</td>\n      <td>...</td>\n      <td>...</td>\n      <td>...</td>\n      <td>...</td>\n      <td>...</td>\n      <td>...</td>\n      <td>...</td>\n    </tr>\n    <tr>\n      <th>83092</th>\n      <td>Do you think she might be interested in  someone?</td>\n      <td>Which one?</td>\n      <td>Well that one. The one who keeps looking at me.</td>\n      <td>ft could be you flatter yourself CoghilL It's ...</td>\n      <td>None</td>\n      <td>None</td>\n      <td>None</td>\n      <td>None</td>\n      <td>None</td>\n      <td>None</td>\n      <td>...</td>\n      <td>None</td>\n      <td>None</td>\n      <td>None</td>\n      <td>None</td>\n      <td>None</td>\n      <td>None</td>\n      <td>None</td>\n      <td>None</td>\n      <td>None</td>\n      <td>None</td>\n    </tr>\n    <tr>\n      <th>83093</th>\n      <td>Choose your targets men. That's right Watch th...</td>\n      <td>Keep steady. You're the best shots of the Twen...</td>\n      <td>None</td>\n      <td>None</td>\n      <td>None</td>\n      <td>None</td>\n      <td>None</td>\n      <td>None</td>\n      <td>None</td>\n      <td>None</td>\n      <td>...</td>\n      <td>None</td>\n      <td>None</td>\n      <td>None</td>\n      <td>None</td>\n      <td>None</td>\n      <td>None</td>\n      <td>None</td>\n      <td>None</td>\n      <td>None</td>\n      <td>None</td>\n    </tr>\n    <tr>\n      <th>83094</th>\n      <td>Colonel Durnford... William Vereker. I hear yo...</td>\n      <td>Good ones, yes, Mr Vereker. Gentlemen who can ...</td>\n      <td>None</td>\n      <td>None</td>\n      <td>None</td>\n      <td>None</td>\n      <td>None</td>\n      <td>None</td>\n      <td>None</td>\n      <td>None</td>\n      <td>...</td>\n      <td>None</td>\n      <td>None</td>\n      <td>None</td>\n      <td>None</td>\n      <td>None</td>\n      <td>None</td>\n      <td>None</td>\n      <td>None</td>\n      <td>None</td>\n      <td>None</td>\n    </tr>\n    <tr>\n      <th>83095</th>\n      <td>Your orders, Mr Vereker?</td>\n      <td>I'm to take the Sikali with the main column to...</td>\n      <td>Lord Chelmsford seems to want me to stay back ...</td>\n      <td>I think Chelmsford wants a good man on the bor...</td>\n      <td>None</td>\n      <td>None</td>\n      <td>None</td>\n      <td>None</td>\n      <td>None</td>\n      <td>None</td>\n      <td>...</td>\n      <td>None</td>\n      <td>None</td>\n      <td>None</td>\n      <td>None</td>\n      <td>None</td>\n      <td>None</td>\n      <td>None</td>\n      <td>None</td>\n      <td>None</td>\n      <td>None</td>\n    </tr>\n    <tr>\n      <th>83096</th>\n      <td>Well I assure you, Sir, I have no desire to cr...</td>\n      <td>And I assure you, you do not In fact I'd be ob...</td>\n      <td>So far only their scouts. But we have had repo...</td>\n      <td>None</td>\n      <td>None</td>\n      <td>None</td>\n      <td>None</td>\n      <td>None</td>\n      <td>None</td>\n      <td>None</td>\n      <td>...</td>\n      <td>None</td>\n      <td>None</td>\n      <td>None</td>\n      <td>None</td>\n      <td>None</td>\n      <td>None</td>\n      <td>None</td>\n      <td>None</td>\n      <td>None</td>\n      <td>None</td>\n    </tr>\n  </tbody>\n</table>\n<p>83097 rows × 89 columns</p>\n</div>"
     },
     "metadata": {},
     "execution_count": 26
    }
   ],
   "source": [
    "df"
   ]
  },
  {
   "cell_type": "code",
   "execution_count": 27,
   "metadata": {},
   "outputs": [],
   "source": [
    "X = []\n",
    "y = []\n",
    "\n",
    "for conv in convos:\n",
    "    for i in range(len(conv)-1):\n",
    "        if len(conv[i]) <= 1 or len(conv[i+1]) <= 1:\n",
    "            continue\n",
    "        X.append(conv[i])\n",
    "        y.append(conv[i+1])"
   ]
  },
  {
   "cell_type": "code",
   "execution_count": null,
   "metadata": {},
   "outputs": [],
   "source": []
  }
 ]
}